{
  "nbformat": 4,
  "nbformat_minor": 0,
  "metadata": {
    "colab": {
      "provenance": [],
      "gpuType": "T4",
      "authorship_tag": "ABX9TyPm9eLhJKeeuB4vnBdL5wkJ",
      "include_colab_link": true
    },
    "kernelspec": {
      "name": "python3",
      "display_name": "Python 3"
    },
    "language_info": {
      "name": "python"
    },
    "accelerator": "GPU"
  },
  "cells": [
    {
      "cell_type": "markdown",
      "metadata": {
        "id": "view-in-github",
        "colab_type": "text"
      },
      "source": [
        "<a href=\"https://colab.research.google.com/github/valid999/Reinforcement_project-/blob/main/Reinforment_learning(DQN).ipynb\" target=\"_parent\"><img src=\"https://colab.research.google.com/assets/colab-badge.svg\" alt=\"Open In Colab\"/></a>"
      ]
    },
    {
      "cell_type": "code",
      "execution_count": 2,
      "metadata": {
        "colab": {
          "base_uri": "https://localhost:8080/"
        },
        "id": "G5g0EybOA-a3",
        "outputId": "7d2a4e99-c409-4dac-a515-564065a03213"
      },
      "outputs": [
        {
          "output_type": "stream",
          "name": "stdout",
          "text": [
            "Collecting gymnasium[classic_control]\n",
            "  Downloading gymnasium-0.29.1-py3-none-any.whl (953 kB)\n",
            "     ━━━━━━━━━━━━━━━━━━━━━━━━━━━━━━━━━━━━━━━━ 953.9/953.9 kB 13.6 MB/s eta 0:00:00\n",
            "Requirement already satisfied: numpy>=1.21.0 in /usr/local/lib/python3.10/dist-packages (from gymnasium[classic_control]) (1.23.5)\n",
            "Requirement already satisfied: cloudpickle>=1.2.0 in /usr/local/lib/python3.10/dist-packages (from gymnasium[classic_control]) (2.2.1)\n",
            "Requirement already satisfied: typing-extensions>=4.3.0 in /usr/local/lib/python3.10/dist-packages (from gymnasium[classic_control]) (4.5.0)\n",
            "Collecting farama-notifications>=0.0.1 (from gymnasium[classic_control])\n",
            "  Downloading Farama_Notifications-0.0.4-py3-none-any.whl (2.5 kB)\n",
            "Requirement already satisfied: pygame>=2.1.3 in /usr/local/lib/python3.10/dist-packages (from gymnasium[classic_control]) (2.5.2)\n",
            "Installing collected packages: farama-notifications, gymnasium\n",
            "Successfully installed farama-notifications-0.0.4 gymnasium-0.29.1\n"
          ]
        }
      ],
      "source": [
        "%%bash\n",
        "pip3 install gymnasium[classic_control]"
      ]
    },
    {
      "cell_type": "code",
      "source": [
        "import gymnasium as gym\n",
        "import math\n",
        "import random\n",
        "import matplotlib.pyplot as plt\n",
        "import matplotlib\n",
        "from collections import namedtuple , deque\n",
        "from itertools import count\n",
        "\n",
        "\n",
        "\n",
        "import torch\n",
        "import torch.nn as nn\n",
        "import torch.optim as optim\n",
        "import torch.nn.functional as F\n",
        "\n",
        "env = gym.make('CartPole-v1')\n",
        "\n",
        "\n",
        "# Set up matplotlib\n",
        "is_ipython = 'inline' in matplotlib.get_backend()\n",
        "if is_ipython:\n",
        "  from IPython import display\n",
        "\n",
        "plt.ion()\n",
        "\n",
        "# If GPU is to be used\n",
        "device = torch.device('cuda' if torch.cuda.is_available() else 'cpu')"
      ],
      "metadata": {
        "id": "OyfHyAPDBXrG"
      },
      "execution_count": 3,
      "outputs": []
    },
    {
      "cell_type": "markdown",
      "source": [
        "### **ReplyMemory** : a cyclic buffer of bounded size that holds the transitions observed recently. It also implements a .sample() method for selecting a random batch of transitions for training."
      ],
      "metadata": {
        "id": "qkub61ccD-dL"
      }
    },
    {
      "cell_type": "code",
      "source": [
        "Transition = namedtuple('Transition' ,    # transition maped the state , action to the next_state , reward\n",
        "                        ('state' , 'action' , 'next_state','reward'))\n",
        "\n",
        "class ReplyMemory(object):\n",
        "\n",
        "\n",
        "  def __init__(self , capacity):\n",
        "    self.memory = deque([] , maxlen = capacity)\n",
        "\n",
        "\n",
        "  def push(self , *args):\n",
        "    'Save a transition'\n",
        "    self.memory.append(Transition(*args))\n",
        "\n",
        "  def sample(self , batch_size):\n",
        "    return random.sample(self.memory , batch_size)\n",
        "\n",
        "\n",
        "  def __len__(self):\n",
        "    return len(self.memory)\n"
      ],
      "metadata": {
        "id": "Qbx2m6qhC7Nz"
      },
      "execution_count": 4,
      "outputs": []
    },
    {
      "cell_type": "markdown",
      "source": [
        "## The model architecture is Q network method:\n",
        "Q(s , left) and Q(s , right) (Where s is input to the nwtwork)\n",
        "In effect the nedtwork is trying to predict the expected return of taking each action given input ."
      ],
      "metadata": {
        "id": "mw4G_zeyGXXi"
      }
    },
    {
      "cell_type": "code",
      "source": [
        "class DQN(nn.Module):\n",
        "\n",
        "  def __init__(self , n_observations , n_actions):\n",
        "    super(DQN , self).__init__()\n",
        "    self.layer1 = nn.Linear( n_observations, 128) # n_observations the number of the state\n",
        "    self.layer2 = nn.Linear(128 , 128)\n",
        "    self.layer3 = nn.Linear(128 , n_actions)\n",
        "\n",
        "\n",
        "\n",
        "\n",
        "  # Called with either one element to determine next action or a batch\n",
        "  # During optimization . Returns tensor([[Left0exp , right0exp]...])\n",
        "  def forward(self , x):\n",
        "    x = F.relu(self.layer1(x))\n",
        "    x = F.relu(self.layer2(x))\n",
        "    return self.layer3(x)\n"
      ],
      "metadata": {
        "id": "suSkqjdzGbUt"
      },
      "execution_count": 5,
      "outputs": []
    },
    {
      "cell_type": "code",
      "source": [
        "# Batch size is the number of the transitions sampled from the replay buffer\n",
        "# GAMMA is the discount factor as mentioned in the previous section\n",
        "# EPS_START  the starting value of the epsilon\n",
        "# EPS_END is the final value of epsilon\n",
        "\n",
        "BATCH_SIZE = 128\n",
        "GAMMA = 0.99\n",
        "EPS_START = 0.9\n",
        "EPS_END = 0.05\n",
        "EPS_DECAY = 1000\n",
        "TAU = 0.005\n",
        "LR = 1e-4\n",
        "\n",
        "\n",
        "# Get number of avtions from gym action space\n",
        "n_actions = env.action_space.n\n",
        "# Get the number of state observations\n",
        "state , info = env.reset()\n",
        "n_observations = len(state)\n",
        "\n",
        "\n",
        "policy_net = DQN(n_observations , n_actions).to(device)\n",
        "target_net = DQN(n_observations , n_actions).to(device)\n",
        "target_net.load_state_dict(policy_net.state_dict())\n",
        "\n",
        "optimizer = optim.AdamW(policy_net.parameters() , lr = LR , amsgrad = True)\n",
        "memory = ReplyMemory(10000)\n",
        "\n",
        "steps_done = 0\n",
        "\n",
        "\"\"\"\n",
        "select_action - will select an action accordingly to an epsilon greedy policy.\n",
        "Simply put, we’ll sometimes use our model for choosing the action, and sometimes\n",
        " we’ll just sample one uniformly. The probability of choosing a random action will\n",
        " start at EPS_START and will decay exponentially towards EPS_END. EPS_DECAY controls\n",
        " the rate of the decay.\n",
        "\"\"\"\n",
        "\n",
        "def select_action(state):\n",
        "  global steps_done\n",
        "  sample = random.random()\n",
        "  eps_threshold = EPS_END + (EPS_START - EPS_END) * \\\n",
        "  math.exp(-1 * steps_done / EPS_DECAY)\n",
        "  steps_done += 1\n",
        "  if sample > eps_threshold:\n",
        "    with torch.no_grad():\n",
        "\n",
        "\n",
        "\n",
        "       return policy_net(state).max(1)[1].view(1 , 1)\n",
        "\n",
        "  else:\n",
        "      return torch.tensor([[env.action_space.sample()]] , device = device , dtype = torch.long)\n",
        "\n",
        "episode_durations = []\n",
        "\n",
        "\n",
        "def plot_durations(show_result = False):\n",
        "  plt.figure(1)\n",
        "  durations_t = torch.tensor(episode_durations , dtype = torch.float)\n",
        "  if show_result:\n",
        "    plt.title('Result')\n",
        "  else:\n",
        "    plt.clf()\n",
        "    plt.title('Training...')\n",
        "  plt.xlabel('Episode')\n",
        "  plt.ylabel('Duration')\n",
        "  plt.plot(durations_t.numpy())\n",
        "  # Take 100 epsiode averages and  them too\n",
        "  if len(durations_t) >= 100:\n",
        "    means = durations_t.unfold(0 , 100 , 1).mean(1).view(-1)\n",
        "    means = torch.cat((torch.zeros(99) , means))\n",
        "    plt.plot(means.numpy())\n",
        "\n",
        "\n",
        "  plt.pause(0.001)  # pause a bit so that plots are updated\n",
        "  if is_ipython:\n",
        "      if not show_result:\n",
        "          display.display(plt.gcf())\n",
        "          display.clear_output(wait=True)\n",
        "      else:\n",
        "          display.display(plt.gcf())\n",
        "\n",
        "\n",
        "\n",
        "\n"
      ],
      "metadata": {
        "id": "d5HfOHMUE3Zg"
      },
      "execution_count": 13,
      "outputs": []
    },
    {
      "cell_type": "code",
      "source": [
        "a = zip(*[('a' , 1) , ('b' , 2) , ('c' , 3) , ('d' , 4)])\n",
        "print(a)"
      ],
      "metadata": {
        "colab": {
          "base_uri": "https://localhost:8080/"
        },
        "id": "P3sVUu89QCks",
        "outputId": "41f5608a-345c-4190-de05-a2d01266946a"
      },
      "execution_count": 14,
      "outputs": [
        {
          "output_type": "stream",
          "name": "stdout",
          "text": [
            "<zip object at 0x7f204c9ad700>\n"
          ]
        }
      ]
    },
    {
      "cell_type": "code",
      "source": [
        "def optimize_model():\n",
        "\n",
        "  if len(memory) < BATCH_SIZE:\n",
        "    return\n",
        "    transitions = memory.sample(BATCH_SIZE)\n",
        "\n",
        "\n",
        "\n",
        "    batch  = transition(*zip(*transitions))\n",
        "\n",
        "    # Compute a mask of non-final states and concatenate the batch elements\n",
        "    # a Final state would have been the one after which simulation ended\n",
        "    non_final_mask  =  torch.tensor(tuble(map(lambda s: s is not None ,\n",
        "                                              batch.next_state)) , device = device , dtype = torch.bool)\n",
        "\n",
        "    non_final_next_states = torch.cat([s for s in batch.next_state if s is not None])\n",
        "\n",
        "    # Cat is used to concatenate two or more value\n",
        "    state_batch = torch.cat(batch.state)\n",
        "    action_batch =  torch.cat(batch.action)\n",
        "    reward_batch = torch.cat(batch.reward)\n",
        "\n",
        "\n",
        "\n",
        "\n",
        "    state_action_values = policy_net(state_batch).gather(1 , action_batch)\n",
        "\n",
        "\n",
        "\n",
        "    next_state_values = torch.zeros(BATCH_SIZE , device = device)\n",
        "    with torch.no_grad():\n",
        "      next_state_values[non_final_mask] = target_net(non_final_next_states).max(1)[0]\n",
        "\n",
        "    # Compute the expected Q values\n",
        "    expected_state_action_values = (next_state_values * GAMMA) + reward_batch\n",
        "\n",
        "\n",
        "    # Compute Huber loss\n",
        "    criterion = nn.SmoothL1Loss()\n",
        "    loss = criterion(state_action_values , expected_state_action_values.unsqueeze(1))\n",
        "\n",
        "\n",
        "    # Optimize  the model\n",
        "    optimizer.zero_grad()\n",
        "    loss.backward()\n",
        "\n",
        "    # In-place gradient clipping\n",
        "    torch.nn.utils.clip_grad_value_(policy_net.parameters() , 100)\n",
        "    optimizer.step()"
      ],
      "metadata": {
        "id": "W113fCkbNW82"
      },
      "execution_count": 15,
      "outputs": []
    },
    {
      "cell_type": "code",
      "source": [
        "# Training RL agent can be a noisy restarting training can produce better result can produce better results if convergence is not observed ."
      ],
      "metadata": {
        "id": "euFjevd7aT-i"
      },
      "execution_count": 16,
      "outputs": []
    },
    {
      "cell_type": "code",
      "source": [
        "if torch.cuda.is_available():\n",
        "    num_episodes = 600\n",
        "else:\n",
        "    num_episodes = 50\n",
        "\n",
        "for i_episode in range(num_episodes):\n",
        "    # Initialize the environment and get it's state\n",
        "    state, info = env.reset()\n",
        "    state = torch.tensor(state, dtype=torch.float32, device=device).unsqueeze(0)\n",
        "    for t in count():\n",
        "        action = select_action(state)\n",
        "        observation, reward, terminated, truncated, _ = env.step(action.item())\n",
        "        reward = torch.tensor([reward], device=device)\n",
        "        done = terminated or truncated\n",
        "\n",
        "        if terminated:\n",
        "            next_state = None\n",
        "        else:\n",
        "            next_state = torch.tensor(observation, dtype=torch.float32, device=device).unsqueeze(0)\n",
        "\n",
        "        # Store the transition in memory\n",
        "        memory.push(state, action, next_state, reward)\n",
        "\n",
        "        # Move to the next state\n",
        "        state = next_state\n",
        "\n",
        "        # Perform one step of the optimization (on the policy network)\n",
        "        optimize_model()\n",
        "\n",
        "        # Soft update of the target network's weights\n",
        "        # θ′ ← τ θ + (1 −τ )θ′\n",
        "        target_net_state_dict = target_net.state_dict()\n",
        "        policy_net_state_dict = policy_net.state_dict()\n",
        "        for key in policy_net_state_dict:\n",
        "            target_net_state_dict[key] = policy_net_state_dict[key]*TAU + target_net_state_dict[key]*(1-TAU)\n",
        "        target_net.load_state_dict(target_net_state_dict)\n",
        "\n",
        "        if done:\n",
        "            episode_durations.append(t + 1)\n",
        "            plot_durations()\n",
        "            break\n",
        "\n",
        "print('Complete')\n",
        "plot_durations(show_result=True)\n",
        "plt.ioff()\n",
        "plt.show()"
      ],
      "metadata": {
        "colab": {
          "base_uri": "https://localhost:8080/",
          "height": 527
        },
        "id": "K1ve__kUbol0",
        "outputId": "cb019ed0-e8a0-4999-f5be-da2a7c266c55"
      },
      "execution_count": 17,
      "outputs": [
        {
          "output_type": "stream",
          "name": "stdout",
          "text": [
            "Complete\n"
          ]
        },
        {
          "output_type": "display_data",
          "data": {
            "text/plain": [
              "<Figure size 640x480 with 1 Axes>"
            ],
            "image/png": "[encoded data removed]"
          },
          "metadata": {}
        },
        {
          "output_type": "display_data",
          "data": {
            "text/plain": [
              "<Figure size 640x480 with 0 Axes>"
            ]
          },
          "metadata": {}
        },
        {
          "output_type": "display_data",
          "data": {
            "text/plain": [
              "<Figure size 640x480 with 0 Axes>"
            ]
          },
          "metadata": {}
        }
      ]
    },
    {
      "cell_type": "code",
      "source": [],
      "metadata": {
        "id": "uxX-KLm9eOUw"
      },
      "execution_count": 17,
      "outputs": []
    }
  ]
}